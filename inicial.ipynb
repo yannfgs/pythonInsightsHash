{
 "cells": [
  {
   "cell_type": "markdown",
   "metadata": {},
   "source": [
    "# Python Insights - Analisando Dados com Python\n",
    "\n",
    "### Case - Cancelamento de Clientes\n",
    "\n",
    "Você foi contratado por uma empresa com mais de 800 mil clientes para um projeto de Dados. Recentemente a empresa percebeu que da sua base total de clientes, a maioria são clientes inativos, ou seja, que já cancelaram o serviço.\n",
    "\n",
    "Precisando melhorar seus resultados ela quer conseguir entender os principais motivos desses cancelamentos e quais as ações mais eficientes para reduzir esse número.\n",
    "\n",
    "Base de dados e arquivos: https://drive.google.com/drive/folders/1uDesZePdkhiraJmiyeZ-w5tfc8XsNYFZ?usp=drive_link"
   ]
  },
  {
   "cell_type": "code",
   "execution_count": null,
   "metadata": {},
   "outputs": [],
   "source": [
    "# instalar\n",
    "# !pip install pandas\n",
    "# !pip install openpyxl\n",
    "# !pip install plotly    # rodar graficos"
   ]
  },
  {
   "cell_type": "code",
   "execution_count": null,
   "metadata": {},
   "outputs": [],
   "source": [
    "# Passo a Passo\n",
    "# Passo 1: Importar a base de dados\n",
    "\n",
    "import pandas as pd # pacote de codigo (ferramenta, biblioteca) # \n",
    "tabela = pandas.read.csv(\"cancelamentos.sample.csv\")\n",
    "tabela = tabela.drop(columns = \"CustomerID\")\n",
    "# Passo 2: Visualizar a base de dados\n",
    "display(tabela)\n"
   ]
  },
  {
   "cell_type": "code",
   "execution_count": null,
   "metadata": {},
   "outputs": [],
   "source": [
    "# Passo 3: Corrigir as cagadas da base de dados\n",
    "# valores vazios\n",
    "display(tabela.info())\n",
    "tabela = tabela.dropna() # `dropna` metodo do python que elimina as linhas que possuem dados vazios"
   ]
  },
  {
   "cell_type": "code",
   "execution_count": null,
   "metadata": {},
   "outputs": [],
   "source": [
    "# Passo 4: Primeira analise do cancelamento dos clientes (Qual o % de clientes que cancelou)\n",
    "display(tabela[\"cancelou\"].value_counts()) # coluna cancelou da nossa tabela; colchetes do panda\n",
    "display(tabela[\"cancelou\"].value_counts(normalize=True)) # identifica o percentual # `normalize divide o valor pelo total`"
   ]
  },
  {
   "cell_type": "code",
   "execution_count": null,
   "metadata": {},
   "outputs": [],
   "source": [
    "display(tabela[\"duracao_contrato\"].value_counts())\n",
    "display(tabela[\"duracao_contrato\"].value_counts(normalize=True))\n",
    "\n",
    "# agrupamento\n",
    "# duracao_contrato\n",
    "# anual - 50%\n",
    "# trimestral - 35%\n",
    "# mensal - 90%\n",
    "\n",
    "agrupamento = tabela.groupby(\"duracao_contrato\").mean(numeric_only=True) # pegar a media"
   ]
  },
  {
   "cell_type": "code",
   "execution_count": null,
   "metadata": {},
   "outputs": [],
   "source": [
    "# todos os clientes do contrato mensal cancelaram   \n",
    "# sugestao: oferecer desconto nos contratos anuais/trimestrais\n",
    "tabela = tabela[\"duracao_contrato\"] != \"Monthly\" # vai excluir o mensal da tabela\n",
    "display(tabela[\"duracao_contrato\"].value_counts(normalize=True))"
   ]
  },
  {
   "cell_type": "code",
   "execution_count": null,
   "metadata": {},
   "outputs": [],
   "source": [
    "# Passo 5: Analise a causa do cancelamento dos clientes\n",
    "# criar graficos para fazer a analise\n",
    "import plotly.express as px\n",
    "\n",
    "# Ordem de apresentacao de graficos no Python: 1-Cria o grafico; 2-Exibe o grafico\n",
    "\n",
    "# cria o grafico\n",
    "for column in tabela.columns:\n",
    "    grafico = px.histogram(tabela, x=coluna, color=\"cancelou\")\n",
    "    # exibe o grafico\n",
    "    grafico.show()"
   ]
  },
  {
   "cell_type": "code",
   "execution_count": null,
   "metadata": {},
   "outputs": [],
   "source": [
    "# pagagmentos mensais\n",
    "# ligacoes para call center acima de 4, cancelam\n",
    "# dias de atraso maior que 20, todos os clientes cancelam\n",
    "\n",
    "# voce nunca vai resolver 100% dos problemas de cancelamento\n",
    "\n",
    "tabela = tabela[tabela[\"ligacoes_callcenter\"] < 5]\n",
    "tabela = tabela[tabela[\"dias_atraso\"] <= 20]\n",
    "\n",
    "display(tabela[\"duracao_contrato\"].value_counts())\n",
    "display(tabela[\"duracao_contrato\"].value_counts(normalize=True))"
   ]
  }
 ],
 "metadata": {
  "kernelspec": {
   "display_name": "base",
   "language": "python",
   "name": "python3"
  },
  "language_info": {
   "codemirror_mode": {
    "name": "ipython",
    "version": 3
   },
   "file_extension": ".py",
   "mimetype": "text/x-python",
   "name": "python",
   "nbconvert_exporter": "python",
   "pygments_lexer": "ipython3",
   "version": "3.11.5"
  },
  "orig_nbformat": 4
 },
 "nbformat": 4,
 "nbformat_minor": 2
}
